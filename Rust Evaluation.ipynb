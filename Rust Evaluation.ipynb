{
  "nbformat": 4,
  "nbformat_minor": 0,
  "metadata": {
    "colab": {
      "provenance": []
    },
    "kernelspec": {
      "name": "python3",
      "display_name": "Python 3"
    },
    "language_info": {
      "name": "python"
    }
  },
  "cells": [
    {
      "cell_type": "code",
      "source": [
        "API_KEY = \"\""
      ],
      "metadata": {
        "id": "wiaQ0NLS-Mi5"
      },
      "execution_count": null,
      "outputs": []
    },
    {
      "cell_type": "code",
      "source": [
        "!apt install rustc"
      ],
      "metadata": {
        "id": "2QsP10rlDSqq"
      },
      "execution_count": null,
      "outputs": []
    },
    {
      "cell_type": "code",
      "source": [
        "!wget https://github.com/THUDM/CodeGeeX/raw/f66205b5f615a4eead9c26d7ec297e14738ea18d/codegeex/benchmark/humaneval-x/rust/data/humaneval_rust.jsonl.gz\n",
        "!gunzip humaneval_rust.jsonl.gz"
      ],
      "metadata": {
        "id": "cq2T8NjTByec"
      },
      "execution_count": null,
      "outputs": []
    },
    {
      "cell_type": "code",
      "execution_count": null,
      "metadata": {
        "id": "2gYJ4xTzC9u5"
      },
      "outputs": [],
      "source": [
        "import requests\n",
        "\n",
        "def request_completion(prompt):\n",
        "    endpoint = 'https://api.together.xyz/inference'\n",
        "    res = requests.post(endpoint, json={\n",
        "        \"model\": \"togethercomputer/llama-2-13b-chat\",\n",
        "        \"max_tokens\": 512,\n",
        "        \"prompt\": prompt,\n",
        "        \"request_type\": \"language-model-inference\",\n",
        "        \"temperature\": 0.4,\n",
        "        \"top_p\": 0.7,\n",
        "        \"top_k\": 50,\n",
        "        \"repetition_penalty\": 1\n",
        "    }, headers={\n",
        "        \"Authorization\": f\"Bearer {API_KEY}\",\n",
        "    })\n",
        "    return res.json()['output']['choices'][0]['text']"
      ]
    },
    {
      "cell_type": "code",
      "source": [
        "import subprocess\n",
        "\n",
        "def compile_and_execute_rust(rust_code):\n",
        "    # Create a Rust source code file from the provided code string\n",
        "    with open(\"temp.rs\", \"w\") as rust_file:\n",
        "        rust_file.write(rust_code)\n",
        "\n",
        "    binary_path = \"rust_program\"  # Name of the compiled binary\n",
        "\n",
        "    # Compile the Rust code\n",
        "    compile_command = [\"rustc\", \"temp.rs\", \"-o\", binary_path]\n",
        "\n",
        "    try:\n",
        "        subprocess.run(compile_command, check=True)\n",
        "    except subprocess.CalledProcessError as e:\n",
        "        print(\"Compilation failed:\", e)\n",
        "        return False\n",
        "\n",
        "    # Execute the compiled binary\n",
        "    execute_command = [\"./\" + binary_path]\n",
        "\n",
        "    try:\n",
        "        subprocess.run(execute_command, check=True)\n",
        "        print(\"Rust program executed successfully.\")\n",
        "        return True\n",
        "    except subprocess.CalledProcessError as e:\n",
        "        print(\"Rust program execution failed:\", e)\n",
        "        return False"
      ],
      "metadata": {
        "id": "kv5c8QztDQMV"
      },
      "execution_count": null,
      "outputs": []
    },
    {
      "cell_type": "code",
      "source": [
        "import json\n",
        "\n",
        "jsonl_file_path = \"humaneval_rust.jsonl\"\n",
        "\n",
        "with open(jsonl_file_path, 'r') as file:\n",
        "    for line in file:\n",
        "        data = json.loads(line)\n",
        "        #print(dict.keys(data))\n",
        "        print(data['task_id'] + \":\")\n",
        "        print(\"Generating...\")\n",
        "        code = request_completion(data['declaration']+data['prompt'])\n",
        "        main = \"\\nfn main(){ \\n } \\n\"\n",
        "        test_string = main + data['declaration'] + data['prompt'] + code + data['test']\n",
        "        #print(test_string)\n",
        "        with open(data['task_id'].replace(\"/\", \"-\") + \".rs\", \"w\") as file:\n",
        "          file.write(test_string)\n",
        "        print(\"Evaluating...\")\n",
        "        compile_and_execute_rust(test_string)\n"
      ],
      "metadata": {
        "id": "ylEXyawgXTmP"
      },
      "execution_count": null,
      "outputs": []
    }
  ]
}